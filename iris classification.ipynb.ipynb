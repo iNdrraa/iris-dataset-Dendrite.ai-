{
 "cells": [
  {
   "cell_type": "markdown",
   "id": "372e19f7",
   "metadata": {},
   "source": [
    "# Import Libraries"
   ]
  },
  {
   "cell_type": "code",
   "execution_count": 1,
   "id": "837462e8",
   "metadata": {},
   "outputs": [],
   "source": [
    "#import libraries\n",
    "import numpy as np \n",
    "import pandas as pd\n",
    "import matplotlib.pyplot as plt\n",
    "import seaborn as sns \n",
    "import warnings\n",
    "warnings.filterwarnings(\"ignore\")"
   ]
  },
  {
   "cell_type": "code",
   "execution_count": 2,
   "id": "726609c7",
   "metadata": {},
   "outputs": [
    {
     "data": {
      "text/html": [
       "<div>\n",
       "<style scoped>\n",
       "    .dataframe tbody tr th:only-of-type {\n",
       "        vertical-align: middle;\n",
       "    }\n",
       "\n",
       "    .dataframe tbody tr th {\n",
       "        vertical-align: top;\n",
       "    }\n",
       "\n",
       "    .dataframe thead th {\n",
       "        text-align: right;\n",
       "    }\n",
       "</style>\n",
       "<table border=\"1\" class=\"dataframe\">\n",
       "  <thead>\n",
       "    <tr style=\"text-align: right;\">\n",
       "      <th></th>\n",
       "      <th>sepal_length</th>\n",
       "      <th>sepal_width</th>\n",
       "      <th>petal_length</th>\n",
       "      <th>petal_width</th>\n",
       "      <th>species</th>\n",
       "    </tr>\n",
       "  </thead>\n",
       "  <tbody>\n",
       "    <tr>\n",
       "      <th>0</th>\n",
       "      <td>5.1</td>\n",
       "      <td>3.5</td>\n",
       "      <td>1.4</td>\n",
       "      <td>0.2</td>\n",
       "      <td>Iris-setosa</td>\n",
       "    </tr>\n",
       "    <tr>\n",
       "      <th>1</th>\n",
       "      <td>4.9</td>\n",
       "      <td>3.0</td>\n",
       "      <td>1.4</td>\n",
       "      <td>0.2</td>\n",
       "      <td>Iris-setosa</td>\n",
       "    </tr>\n",
       "    <tr>\n",
       "      <th>2</th>\n",
       "      <td>4.7</td>\n",
       "      <td>3.2</td>\n",
       "      <td>1.3</td>\n",
       "      <td>0.2</td>\n",
       "      <td>Iris-setosa</td>\n",
       "    </tr>\n",
       "    <tr>\n",
       "      <th>3</th>\n",
       "      <td>4.6</td>\n",
       "      <td>3.1</td>\n",
       "      <td>1.5</td>\n",
       "      <td>0.2</td>\n",
       "      <td>Iris-setosa</td>\n",
       "    </tr>\n",
       "    <tr>\n",
       "      <th>4</th>\n",
       "      <td>5.0</td>\n",
       "      <td>3.6</td>\n",
       "      <td>1.4</td>\n",
       "      <td>0.2</td>\n",
       "      <td>Iris-setosa</td>\n",
       "    </tr>\n",
       "  </tbody>\n",
       "</table>\n",
       "</div>"
      ],
      "text/plain": [
       "   sepal_length  sepal_width  petal_length  petal_width      species\n",
       "0           5.1          3.5           1.4          0.2  Iris-setosa\n",
       "1           4.9          3.0           1.4          0.2  Iris-setosa\n",
       "2           4.7          3.2           1.3          0.2  Iris-setosa\n",
       "3           4.6          3.1           1.5          0.2  Iris-setosa\n",
       "4           5.0          3.6           1.4          0.2  Iris-setosa"
      ]
     },
     "execution_count": 2,
     "metadata": {},
     "output_type": "execute_result"
    }
   ],
   "source": [
    "#to load dataset \n",
    "df=pd.read_csv('iris.csv')\n",
    "#to display first 5 records \n",
    "df.head()"
   ]
  },
  {
   "cell_type": "code",
   "execution_count": 3,
   "id": "f79b93e1",
   "metadata": {},
   "outputs": [
    {
     "data": {
      "text/plain": [
       "(150, 5)"
      ]
     },
     "execution_count": 3,
     "metadata": {},
     "output_type": "execute_result"
    }
   ],
   "source": [
    "#check dataset shape.\n",
    "df.shape"
   ]
  },
  {
   "cell_type": "code",
   "execution_count": 4,
   "id": "699093ba",
   "metadata": {},
   "outputs": [
    {
     "name": "stdout",
     "output_type": "stream",
     "text": [
      "<class 'pandas.core.frame.DataFrame'>\n",
      "RangeIndex: 150 entries, 0 to 149\n",
      "Data columns (total 5 columns):\n",
      " #   Column        Non-Null Count  Dtype  \n",
      "---  ------        --------------  -----  \n",
      " 0   sepal_length  150 non-null    float64\n",
      " 1   sepal_width   150 non-null    float64\n",
      " 2   petal_length  150 non-null    float64\n",
      " 3   petal_width   150 non-null    float64\n",
      " 4   species       150 non-null    object \n",
      "dtypes: float64(4), object(1)\n",
      "memory usage: 6.0+ KB\n"
     ]
    }
   ],
   "source": [
    "#check dataset information \n",
    "df.info()"
   ]
  },
  {
   "cell_type": "code",
   "execution_count": 5,
   "id": "2abbf3bd",
   "metadata": {},
   "outputs": [
    {
     "data": {
      "text/plain": [
       "sepal_length    0\n",
       "sepal_width     0\n",
       "petal_length    0\n",
       "petal_width     0\n",
       "species         0\n",
       "dtype: int64"
      ]
     },
     "execution_count": 5,
     "metadata": {},
     "output_type": "execute_result"
    }
   ],
   "source": [
    "#check null values in dataset \n",
    "df.isnull().sum()"
   ]
  },
  {
   "cell_type": "code",
   "execution_count": 6,
   "id": "a59e44dd",
   "metadata": {},
   "outputs": [
    {
     "data": {
      "text/plain": [
       "sepal_length    float64\n",
       "sepal_width     float64\n",
       "petal_length    float64\n",
       "petal_width     float64\n",
       "species          object\n",
       "dtype: object"
      ]
     },
     "execution_count": 6,
     "metadata": {},
     "output_type": "execute_result"
    }
   ],
   "source": [
    "#check data type in dataset \n",
    "df.dtypes"
   ]
  },
  {
   "cell_type": "code",
   "execution_count": 7,
   "id": "590f3216",
   "metadata": {},
   "outputs": [
    {
     "data": {
      "text/plain": [
       "Index(['sepal_length', 'sepal_width', 'petal_length', 'petal_width',\n",
       "       'species'],\n",
       "      dtype='object')"
      ]
     },
     "execution_count": 7,
     "metadata": {},
     "output_type": "execute_result"
    }
   ],
   "source": [
    "df.columns"
   ]
  },
  {
   "cell_type": "code",
   "execution_count": 8,
   "id": "a4943110",
   "metadata": {},
   "outputs": [
    {
     "data": {
      "text/plain": [
       "3"
      ]
     },
     "execution_count": 8,
     "metadata": {},
     "output_type": "execute_result"
    }
   ],
   "source": [
    "#to check duplicates \n",
    "df.duplicated().sum()\n"
   ]
  },
  {
   "cell_type": "code",
   "execution_count": 9,
   "id": "bc1d937d",
   "metadata": {},
   "outputs": [],
   "source": [
    "#remove duplicates permanetly\n",
    "df.drop_duplicates(inplace=True)"
   ]
  },
  {
   "cell_type": "code",
   "execution_count": 10,
   "id": "132596ae",
   "metadata": {},
   "outputs": [
    {
     "data": {
      "text/plain": [
       "array(['Iris-setosa', 'Iris-versicolor', 'Iris-virginica'], dtype=object)"
      ]
     },
     "execution_count": 10,
     "metadata": {},
     "output_type": "execute_result"
    }
   ],
   "source": [
    "#How many species are in dataset \n",
    "df[\"species\"].unique()"
   ]
  },
  {
   "cell_type": "code",
   "execution_count": 11,
   "id": "e682b1d0",
   "metadata": {},
   "outputs": [
    {
     "data": {
      "image/png": "[encoded data removed]",
      "text/plain": [
       "<Figure size 640x480 with 1 Axes>"
      ]
     },
     "metadata": {},
     "output_type": "display_data"
    },
    {
     "name": "stdout",
     "output_type": "stream",
     "text": [
      "Iris-versicolor    50\n",
      "Iris-virginica     49\n",
      "Iris-setosa        48\n",
      "Name: species, dtype: int64\n"
     ]
    }
   ],
   "source": [
    "#count of species count and visulize \n",
    "f=df[\"species\"].value_counts()\n",
    "sns.countplot(data=df,x=\"species\")\n",
    "plt.show()\n",
    "print(f)"
   ]
  },
  {
   "cell_type": "code",
   "execution_count": 12,
   "id": "38be981e",
   "metadata": {},
   "outputs": [
    {
     "data": {
      "image/png": "[encoded data removed]",
      "text/plain": [
       "<Figure size 640x480 with 2 Axes>"
      ]
     },
     "metadata": {},
     "output_type": "display_data"
    }
   ],
   "source": [
    "#check null value using heatmap\n",
    "sns.heatmap(df.isnull())\n",
    "plt.show()"
   ]
  },
  {
   "cell_type": "code",
   "execution_count": 14,
   "id": "912680e7",
   "metadata": {},
   "outputs": [],
   "source": [
    "# # Multivariate Plots\n",
    "# # Relationships between each attribute\n",
    "# sns.pairplot(df)\n",
    "# plt.show()"
   ]
  },
  {
   "cell_type": "markdown",
   "id": "5e168f1b",
   "metadata": {},
   "source": [
    "# Appling Label Encoder"
   ]
  },
  {
   "cell_type": "code",
   "execution_count": 15,
   "id": "3490f699",
   "metadata": {},
   "outputs": [
    {
     "name": "stdout",
     "output_type": "stream",
     "text": [
      "   sepal_length  sepal_width  petal_length  petal_width  species\n",
      "0           5.1          3.5           1.4          0.2        0\n",
      "1           4.9          3.0           1.4          0.2        0\n",
      "2           4.7          3.2           1.3          0.2        0\n",
      "3           4.6          3.1           1.5          0.2        0\n",
      "4           5.0          3.6           1.4          0.2        0\n",
      "sepal_length    float64\n",
      "sepal_width     float64\n",
      "petal_length    float64\n",
      "petal_width     float64\n",
      "species           int32\n",
      "dtype: object\n"
     ]
    }
   ],
   "source": [
    "#apply LabelEncoder on species output column (change in number)\n",
    "from sklearn.preprocessing import LabelEncoder\n",
    "#create object of LabelEncoder\n",
    "le=LabelEncoder()\n",
    "df['species']=le.fit_transform(df['species'])\n",
    "print(df.head())\n",
    "print(df.dtypes)"
   ]
  },
  {
   "cell_type": "code",
   "execution_count": 16,
   "id": "bb587085",
   "metadata": {},
   "outputs": [
    {
     "data": {
      "image/png": "[encoded data removed]",
      "text/plain": [
       "<Figure size 640x480 with 1 Axes>"
      ]
     },
     "metadata": {},
     "output_type": "display_data"
    }
   ],
   "source": [
    "#we only take first 2 inputs \n",
    "X=df.iloc[:,2:4] \n",
    "#take output\n",
    "Y=df['species']\n",
    "\n",
    "#draw scatter plot\n",
    "plt.scatter(X.iloc[:,0],X.iloc[:,1],c=Y) #c means color , and pass output variable Y\n",
    "plt.xlabel('Sepal Length')\n",
    "plt.ylabel('Sepal Width')\n",
    "plt.title('Sepal Length and width')\n",
    "plt.show()"
   ]
  },
  {
   "cell_type": "markdown",
   "id": "02edce04",
   "metadata": {},
   "source": [
    "# Selected Input and Output"
   ]
  },
  {
   "cell_type": "code",
   "execution_count": 17,
   "id": "f58e2be9",
   "metadata": {},
   "outputs": [],
   "source": [
    "#select input and output \n",
    "X=df.drop(\"species\",axis=1) #select input\n",
    "Y=df['species'] #select output"
   ]
  },
  {
   "cell_type": "code",
   "execution_count": 18,
   "id": "71c20aec",
   "metadata": {},
   "outputs": [],
   "source": [
    "#train test split \n",
    "from sklearn.model_selection import train_test_split\n",
    "X_train,X_test,Y_train,Y_test=train_test_split(X,Y,test_size=0.3,random_state=1,stratify=Y)\n",
    "#stratify=pass output variable for multclass classifier"
   ]
  },
  {
   "cell_type": "code",
   "execution_count": 19,
   "id": "e9067fdc",
   "metadata": {},
   "outputs": [
    {
     "data": {
      "text/plain": [
       "((102, 4), (45, 4))"
      ]
     },
     "execution_count": 19,
     "metadata": {},
     "output_type": "execute_result"
    }
   ],
   "source": [
    "X_train.shape,X_test.shape"
   ]
  },
  {
   "cell_type": "code",
   "execution_count": 20,
   "id": "eaaa9ecf",
   "metadata": {},
   "outputs": [
    {
     "data": {
      "text/plain": [
       "(1    35\n",
       " 2    34\n",
       " 0    33\n",
       " Name: species, dtype: int64,\n",
       " 2    15\n",
       " 0    15\n",
       " 1    15\n",
       " Name: species, dtype: int64)"
      ]
     },
     "execution_count": 20,
     "metadata": {},
     "output_type": "execute_result"
    }
   ],
   "source": [
    "Y_train.value_counts(),Y_test.value_counts()"
   ]
  },
  {
   "cell_type": "markdown",
   "id": "230e7e5c",
   "metadata": {},
   "source": [
    "# Createing function "
   ]
  },
  {
   "cell_type": "code",
   "execution_count": 21,
   "id": "30f33107",
   "metadata": {},
   "outputs": [],
   "source": [
    "#create a function \n",
    "def create_model(model):\n",
    "    #train the model with 70% data\n",
    "    model.fit(X_train,Y_train)\n",
    "    #test the model with 30% data\n",
    "    Y_pred=model.predict(X_test)\n",
    "    #generate report \n",
    "    print(classification_report(Y_test,Y_pred))\n",
    "    print(confusion_matrix(Y_test,Y_pred))\n",
    "    acc = accuracy_score(Y_test,Y_pred).round(2) *100\n",
    "    print(\"Accuracy Score\",acc,\"%\")\n",
    "    return model"
   ]
  },
  {
   "cell_type": "code",
   "execution_count": 22,
   "id": "7b9842e3",
   "metadata": {},
   "outputs": [],
   "source": [
    "from sklearn.metrics import classification_report,confusion_matrix,accuracy_score"
   ]
  },
  {
   "cell_type": "code",
   "execution_count": 23,
   "id": "5c138901",
   "metadata": {},
   "outputs": [],
   "source": [
    "#first apply standardscaler on X_train and X_test\n",
    "from sklearn.preprocessing import StandardScaler\n",
    "#create object of StandardScaler class\n",
    "ss=StandardScaler()\n",
    "X_train=ss.fit_transform(X_train)\n",
    "X_test=ss.transform(X_test)"
   ]
  },
  {
   "cell_type": "code",
   "execution_count": 24,
   "id": "582c5680",
   "metadata": {},
   "outputs": [],
   "source": [
    "from sklearn.linear_model import LogisticRegression"
   ]
  },
  {
   "cell_type": "code",
   "execution_count": 25,
   "id": "6932d7cf",
   "metadata": {},
   "outputs": [],
   "source": [
    "#create object of LogisticRegression class\n",
    "lr=LogisticRegression()"
   ]
  },
  {
   "cell_type": "code",
   "execution_count": 26,
   "id": "df2594c5",
   "metadata": {},
   "outputs": [
    {
     "name": "stdout",
     "output_type": "stream",
     "text": [
      "              precision    recall  f1-score   support\n",
      "\n",
      "           0       1.00      1.00      1.00        15\n",
      "           1       0.94      1.00      0.97        15\n",
      "           2       1.00      0.93      0.97        15\n",
      "\n",
      "    accuracy                           0.98        45\n",
      "   macro avg       0.98      0.98      0.98        45\n",
      "weighted avg       0.98      0.98      0.98        45\n",
      "\n",
      "[[15  0  0]\n",
      " [ 0 15  0]\n",
      " [ 0  1 14]]\n",
      "Accuracy Score 98.0 %\n"
     ]
    }
   ],
   "source": [
    "\n",
    "#call function\n",
    "lr=create_model(lr)"
   ]
  },
  {
   "cell_type": "markdown",
   "id": "7ba5785b",
   "metadata": {},
   "source": [
    "# Decision Tree"
   ]
  },
  {
   "cell_type": "code",
   "execution_count": 27,
   "id": "ef080702",
   "metadata": {},
   "outputs": [
    {
     "name": "stdout",
     "output_type": "stream",
     "text": [
      "              precision    recall  f1-score   support\n",
      "\n",
      "           0       1.00      1.00      1.00        15\n",
      "           1       0.94      1.00      0.97        15\n",
      "           2       1.00      0.93      0.97        15\n",
      "\n",
      "    accuracy                           0.98        45\n",
      "   macro avg       0.98      0.98      0.98        45\n",
      "weighted avg       0.98      0.98      0.98        45\n",
      "\n",
      "[[15  0  0]\n",
      " [ 0 15  0]\n",
      " [ 0  1 14]]\n",
      "Accuracy Score 98.0 %\n"
     ]
    }
   ],
   "source": [
    "#decision tree with ginni index\n",
    "#ginni index\n",
    "from sklearn.tree import DecisionTreeClassifier\n",
    "dt=DecisionTreeClassifier(random_state=1)\n",
    "dt=create_model(dt)"
   ]
  },
  {
   "cell_type": "code",
   "execution_count": 28,
   "id": "e703bf62",
   "metadata": {},
   "outputs": [
    {
     "name": "stdout",
     "output_type": "stream",
     "text": [
      "              precision    recall  f1-score   support\n",
      "\n",
      "           0       1.00      1.00      1.00        15\n",
      "           1       0.94      1.00      0.97        15\n",
      "           2       1.00      0.93      0.97        15\n",
      "\n",
      "    accuracy                           0.98        45\n",
      "   macro avg       0.98      0.98      0.98        45\n",
      "weighted avg       0.98      0.98      0.98        45\n",
      "\n",
      "[[15  0  0]\n",
      " [ 0 15  0]\n",
      " [ 0  1 14]]\n",
      "Accuracy Score 98.0 %\n"
     ]
    }
   ],
   "source": [
    "#ginni index eith maxx deep\n",
    "dt1=DecisionTreeClassifier(random_state=1,max_depth=3)\n",
    "dt=create_model(dt1)"
   ]
  },
  {
   "cell_type": "code",
   "execution_count": 29,
   "id": "c24006b2",
   "metadata": {},
   "outputs": [
    {
     "name": "stdout",
     "output_type": "stream",
     "text": [
      "              precision    recall  f1-score   support\n",
      "\n",
      "           0       1.00      1.00      1.00        15\n",
      "           1       0.93      0.93      0.93        15\n",
      "           2       0.93      0.93      0.93        15\n",
      "\n",
      "    accuracy                           0.96        45\n",
      "   macro avg       0.96      0.96      0.96        45\n",
      "weighted avg       0.96      0.96      0.96        45\n",
      "\n",
      "[[15  0  0]\n",
      " [ 0 14  1]\n",
      " [ 0  1 14]]\n",
      "Accuracy Score 96.0 %\n"
     ]
    }
   ],
   "source": [
    "dt1=DecisionTreeClassifier(random_state=1,max_depth=2)\n",
    "dt=create_model(dt1)"
   ]
  },
  {
   "cell_type": "code",
   "execution_count": 30,
   "id": "909e3940",
   "metadata": {},
   "outputs": [
    {
     "name": "stdout",
     "output_type": "stream",
     "text": [
      "              precision    recall  f1-score   support\n",
      "\n",
      "           0       0.00      0.00      0.00        15\n",
      "           1       0.33      1.00      0.50        15\n",
      "           2       0.00      0.00      0.00        15\n",
      "\n",
      "    accuracy                           0.33        45\n",
      "   macro avg       0.11      0.33      0.17        45\n",
      "weighted avg       0.11      0.33      0.17        45\n",
      "\n",
      "[[ 0 15  0]\n",
      " [ 0 15  0]\n",
      " [ 0 15  0]]\n",
      "Accuracy Score 33.0 %\n"
     ]
    }
   ],
   "source": [
    "#ginni index with min sample leaf \n",
    "dt1=DecisionTreeClassifier(random_state=1,min_samples_leaf=100)\n",
    "dt=create_model(dt1)"
   ]
  },
  {
   "cell_type": "code",
   "execution_count": 31,
   "id": "da305c58",
   "metadata": {},
   "outputs": [
    {
     "name": "stdout",
     "output_type": "stream",
     "text": [
      "              precision    recall  f1-score   support\n",
      "\n",
      "           0       1.00      1.00      1.00        15\n",
      "           1       0.93      0.93      0.93        15\n",
      "           2       0.93      0.93      0.93        15\n",
      "\n",
      "    accuracy                           0.96        45\n",
      "   macro avg       0.96      0.96      0.96        45\n",
      "weighted avg       0.96      0.96      0.96        45\n",
      "\n",
      "[[15  0  0]\n",
      " [ 0 14  1]\n",
      " [ 0  1 14]]\n",
      "Accuracy Score 96.0 %\n"
     ]
    }
   ],
   "source": [
    "#decission tree using entropy \n",
    "dt1=DecisionTreeClassifier(random_state=1,criterion='entropy',max_depth=3)\n",
    "dt=create_model(dt1)"
   ]
  },
  {
   "cell_type": "code",
   "execution_count": 32,
   "id": "d3a0af7e",
   "metadata": {},
   "outputs": [
    {
     "name": "stdout",
     "output_type": "stream",
     "text": [
      "              precision    recall  f1-score   support\n",
      "\n",
      "           0       0.00      0.00      0.00        15\n",
      "           1       0.33      1.00      0.50        15\n",
      "           2       0.00      0.00      0.00        15\n",
      "\n",
      "    accuracy                           0.33        45\n",
      "   macro avg       0.11      0.33      0.17        45\n",
      "weighted avg       0.11      0.33      0.17        45\n",
      "\n",
      "[[ 0 15  0]\n",
      " [ 0 15  0]\n",
      " [ 0 15  0]]\n",
      "Accuracy Score 33.0 %\n"
     ]
    }
   ],
   "source": [
    "#ENTROPY WITH MIN SAMPLE LEAF\n",
    "dt1=DecisionTreeClassifier(random_state=1,criterion='entropy',min_samples_leaf=100)\n",
    "dt=create_model(dt1)"
   ]
  },
  {
   "cell_type": "code",
   "execution_count": 33,
   "id": "e71f00bb",
   "metadata": {},
   "outputs": [
    {
     "name": "stdout",
     "output_type": "stream",
     "text": [
      "              precision    recall  f1-score   support\n",
      "\n",
      "           0       1.00      1.00      1.00        15\n",
      "           1       0.93      0.93      0.93        15\n",
      "           2       0.93      0.93      0.93        15\n",
      "\n",
      "    accuracy                           0.96        45\n",
      "   macro avg       0.96      0.96      0.96        45\n",
      "weighted avg       0.96      0.96      0.96        45\n",
      "\n",
      "[[15  0  0]\n",
      " [ 0 14  1]\n",
      " [ 0  1 14]]\n",
      "Accuracy Score 96.0 %\n"
     ]
    }
   ],
   "source": [
    "dt1=DecisionTreeClassifier(random_state=1,criterion='entropy',min_samples_leaf=20)\n",
    "dt=create_model(dt1)"
   ]
  },
  {
   "cell_type": "markdown",
   "id": "f7a9f355",
   "metadata": {},
   "source": [
    "# Random Forest Classifier(RFC)"
   ]
  },
  {
   "cell_type": "code",
   "execution_count": 34,
   "id": "bec4039f",
   "metadata": {},
   "outputs": [
    {
     "name": "stdout",
     "output_type": "stream",
     "text": [
      "              precision    recall  f1-score   support\n",
      "\n",
      "           0       1.00      1.00      1.00        15\n",
      "           1       0.94      1.00      0.97        15\n",
      "           2       1.00      0.93      0.97        15\n",
      "\n",
      "    accuracy                           0.98        45\n",
      "   macro avg       0.98      0.98      0.98        45\n",
      "weighted avg       0.98      0.98      0.98        45\n",
      "\n",
      "[[15  0  0]\n",
      " [ 0 15  0]\n",
      " [ 0  1 14]]\n",
      "Accuracy Score 98.0 %\n"
     ]
    }
   ],
   "source": [
    "#RANDOM FOREST CLASSIFIER\n",
    "from sklearn.ensemble import RandomForestClassifier\n",
    "rf=RandomForestClassifier()\n",
    "rf=create_model(rf) \n"
   ]
  },
  {
   "cell_type": "code",
   "execution_count": 35,
   "id": "b8f8db41",
   "metadata": {},
   "outputs": [
    {
     "data": {
      "text/html": [
       "<div>\n",
       "<style scoped>\n",
       "    .dataframe tbody tr th:only-of-type {\n",
       "        vertical-align: middle;\n",
       "    }\n",
       "\n",
       "    .dataframe tbody tr th {\n",
       "        vertical-align: top;\n",
       "    }\n",
       "\n",
       "    .dataframe thead th {\n",
       "        text-align: right;\n",
       "    }\n",
       "</style>\n",
       "<table border=\"1\" class=\"dataframe\">\n",
       "  <thead>\n",
       "    <tr style=\"text-align: right;\">\n",
       "      <th></th>\n",
       "      <th>Input columns</th>\n",
       "      <th>Inforamtion Gain</th>\n",
       "    </tr>\n",
       "  </thead>\n",
       "  <tbody>\n",
       "    <tr>\n",
       "      <th>0</th>\n",
       "      <td>petal_width</td>\n",
       "      <td>0.661312</td>\n",
       "    </tr>\n",
       "    <tr>\n",
       "      <th>1</th>\n",
       "      <td>petal_length</td>\n",
       "      <td>0.338688</td>\n",
       "    </tr>\n",
       "    <tr>\n",
       "      <th>2</th>\n",
       "      <td>sepal_length</td>\n",
       "      <td>0.000000</td>\n",
       "    </tr>\n",
       "    <tr>\n",
       "      <th>3</th>\n",
       "      <td>sepal_width</td>\n",
       "      <td>0.000000</td>\n",
       "    </tr>\n",
       "  </tbody>\n",
       "</table>\n",
       "</div>"
      ],
      "text/plain": [
       "  Input columns  Inforamtion Gain\n",
       "0   petal_width          0.661312\n",
       "1  petal_length          0.338688\n",
       "2  sepal_length          0.000000\n",
       "3   sepal_width          0.000000"
      ]
     },
     "execution_count": 35,
     "metadata": {},
     "output_type": "execute_result"
    }
   ],
   "source": [
    "#show the information gain of all input  feature \n",
    "IG=dt.feature_importances_\n",
    "I=X.columns\n",
    "d={\"Input columns\":I,\"Inforamtion Gain\":IG}\n",
    "#converts into dataframe \n",
    "F=pd.DataFrame(d)\n",
    "F.sort_values(\"Inforamtion Gain\",ascending=False,ignore_index=True) #descending order "
   ]
  },
  {
   "cell_type": "markdown",
   "id": "17a6e293",
   "metadata": {},
   "source": [
    "# Boosting Techniques"
   ]
  },
  {
   "cell_type": "code",
   "execution_count": 36,
   "id": "0a96098f",
   "metadata": {},
   "outputs": [
    {
     "name": "stdout",
     "output_type": "stream",
     "text": [
      "              precision    recall  f1-score   support\n",
      "\n",
      "           0       1.00      1.00      1.00        15\n",
      "           1       0.94      1.00      0.97        15\n",
      "           2       1.00      0.93      0.97        15\n",
      "\n",
      "    accuracy                           0.98        45\n",
      "   macro avg       0.98      0.98      0.98        45\n",
      "weighted avg       0.98      0.98      0.98        45\n",
      "\n",
      "[[15  0  0]\n",
      " [ 0 15  0]\n",
      " [ 0  1 14]]\n",
      "Accuracy Score 98.0 %\n"
     ]
    }
   ],
   "source": [
    "#Using ADA Boosting\n",
    "from sklearn.ensemble import AdaBoostClassifier\n",
    "ada=AdaBoostClassifier(n_estimators=50,random_state=1)\n",
    "ada=create_model(ada)"
   ]
  },
  {
   "cell_type": "code",
   "execution_count": 37,
   "id": "c9b94db1",
   "metadata": {},
   "outputs": [
    {
     "name": "stdout",
     "output_type": "stream",
     "text": [
      "              precision    recall  f1-score   support\n",
      "\n",
      "           0       1.00      1.00      1.00        15\n",
      "           1       0.94      1.00      0.97        15\n",
      "           2       1.00      0.93      0.97        15\n",
      "\n",
      "    accuracy                           0.98        45\n",
      "   macro avg       0.98      0.98      0.98        45\n",
      "weighted avg       0.98      0.98      0.98        45\n",
      "\n",
      "[[15  0  0]\n",
      " [ 0 15  0]\n",
      " [ 0  1 14]]\n",
      "Accuracy Score 98.0 %\n"
     ]
    }
   ],
   "source": [
    "#Gradient boosting \n",
    "from scipy.sparse.construct import random\n",
    "#using gradient boosting \n",
    "from sklearn.ensemble import GradientBoostingClassifier\n",
    "gb=GradientBoostingClassifier(n_estimators=50,random_state=1)\n",
    "gb=create_model(gb)"
   ]
  },
  {
   "cell_type": "code",
   "execution_count": 38,
   "id": "6d017a84",
   "metadata": {},
   "outputs": [
    {
     "name": "stdout",
     "output_type": "stream",
     "text": [
      "              precision    recall  f1-score   support\n",
      "\n",
      "           0       1.00      1.00      1.00        15\n",
      "           1       0.94      1.00      0.97        15\n",
      "           2       1.00      0.93      0.97        15\n",
      "\n",
      "    accuracy                           0.98        45\n",
      "   macro avg       0.98      0.98      0.98        45\n",
      "weighted avg       0.98      0.98      0.98        45\n",
      "\n",
      "[[15  0  0]\n",
      " [ 0 15  0]\n",
      " [ 0  1 14]]\n",
      "Accuracy Score 98.0 %\n"
     ]
    }
   ],
   "source": [
    "#Using extreme gradient boosting \n",
    "from sklearn.ensemble import GradientBoostingClassifier\n",
    "xg=GradientBoostingClassifier(n_estimators=50,random_state=1)\n",
    "xg=create_model(xg)"
   ]
  },
  {
   "cell_type": "code",
   "execution_count": 39,
   "id": "d34f505d",
   "metadata": {},
   "outputs": [
    {
     "name": "stdout",
     "output_type": "stream",
     "text": [
      "              precision    recall  f1-score   support\n",
      "\n",
      "           0       1.00      1.00      1.00        15\n",
      "           1       0.94      1.00      0.97        15\n",
      "           2       1.00      0.93      0.97        15\n",
      "\n",
      "    accuracy                           0.98        45\n",
      "   macro avg       0.98      0.98      0.98        45\n",
      "weighted avg       0.98      0.98      0.98        45\n",
      "\n",
      "[[15  0  0]\n",
      " [ 0 15  0]\n",
      " [ 0  1 14]]\n",
      "Accuracy Score 98.0 %\n"
     ]
    }
   ],
   "source": [
    "#USING LINEAR SVC\n",
    "from sklearn.svm import LinearSVC\n",
    "svc=LinearSVC(random_state=1)\n",
    "svc=create_model(svc)"
   ]
  },
  {
   "cell_type": "code",
   "execution_count": 40,
   "id": "bb3641ea",
   "metadata": {},
   "outputs": [
    {
     "name": "stdout",
     "output_type": "stream",
     "text": [
      "              precision    recall  f1-score   support\n",
      "\n",
      "           0       1.00      1.00      1.00        15\n",
      "           1       0.94      1.00      0.97        15\n",
      "           2       1.00      0.93      0.97        15\n",
      "\n",
      "    accuracy                           0.98        45\n",
      "   macro avg       0.98      0.98      0.98        45\n",
      "weighted avg       0.98      0.98      0.98        45\n",
      "\n",
      "[[15  0  0]\n",
      " [ 0 15  0]\n",
      " [ 0  1 14]]\n",
      "Accuracy Score 98.0 %\n"
     ]
    }
   ],
   "source": [
    "svc=LinearSVC(random_state=1,C=0.8)\n",
    "svc=create_model(svc)"
   ]
  },
  {
   "cell_type": "code",
   "execution_count": 41,
   "id": "713b4f48",
   "metadata": {},
   "outputs": [
    {
     "name": "stdout",
     "output_type": "stream",
     "text": [
      "              precision    recall  f1-score   support\n",
      "\n",
      "           0       1.00      1.00      1.00        15\n",
      "           1       0.94      1.00      0.97        15\n",
      "           2       1.00      0.93      0.97        15\n",
      "\n",
      "    accuracy                           0.98        45\n",
      "   macro avg       0.98      0.98      0.98        45\n",
      "weighted avg       0.98      0.98      0.98        45\n",
      "\n",
      "[[15  0  0]\n",
      " [ 0 15  0]\n",
      " [ 0  1 14]]\n",
      "Accuracy Score 98.0 %\n"
     ]
    }
   ],
   "source": [
    "svc=LinearSVC(random_state=1,C=0.9) \n",
    "svc=create_model(svc)\n"
   ]
  },
  {
   "cell_type": "markdown",
   "id": "88832dea",
   "metadata": {},
   "source": [
    "# Polynomial kernel function"
   ]
  },
  {
   "cell_type": "code",
   "execution_count": 42,
   "id": "0c521474",
   "metadata": {},
   "outputs": [
    {
     "name": "stdout",
     "output_type": "stream",
     "text": [
      "              precision    recall  f1-score   support\n",
      "\n",
      "           0       1.00      1.00      1.00        15\n",
      "           1       0.78      0.93      0.85        15\n",
      "           2       0.92      0.73      0.81        15\n",
      "\n",
      "    accuracy                           0.89        45\n",
      "   macro avg       0.90      0.89      0.89        45\n",
      "weighted avg       0.90      0.89      0.89        45\n",
      "\n",
      "[[15  0  0]\n",
      " [ 0 14  1]\n",
      " [ 0  4 11]]\n",
      "Accuracy Score 89.0 %\n"
     ]
    }
   ],
   "source": [
    "#polynomial kernel function\n",
    "from sklearn.svm import SVC \n",
    "svc=SVC(random_state=1,kernel=\"poly\") \n",
    "svc=create_model(svc)"
   ]
  },
  {
   "cell_type": "code",
   "execution_count": 43,
   "id": "4056a28c",
   "metadata": {},
   "outputs": [
    {
     "name": "stdout",
     "output_type": "stream",
     "text": [
      "              precision    recall  f1-score   support\n",
      "\n",
      "           0       1.00      1.00      1.00        15\n",
      "           1       0.94      1.00      0.97        15\n",
      "           2       1.00      0.93      0.97        15\n",
      "\n",
      "    accuracy                           0.98        45\n",
      "   macro avg       0.98      0.98      0.98        45\n",
      "weighted avg       0.98      0.98      0.98        45\n",
      "\n",
      "[[15  0  0]\n",
      " [ 0 15  0]\n",
      " [ 0  1 14]]\n",
      "Accuracy Score 98.0 %\n"
     ]
    }
   ],
   "source": [
    "#SVC Radial Basis Kernel Function\n",
    "svr=SVC(random_state=1,kernel='rbf')\n",
    "svr=create_model(svr)"
   ]
  },
  {
   "cell_type": "markdown",
   "id": "20e3601b",
   "metadata": {},
   "source": [
    "# K-Neighborsclassifer"
   ]
  },
  {
   "cell_type": "code",
   "execution_count": 44,
   "id": "c690b36b",
   "metadata": {},
   "outputs": [
    {
     "name": "stdout",
     "output_type": "stream",
     "text": [
      "              precision    recall  f1-score   support\n",
      "\n",
      "           0       1.00      1.00      1.00        15\n",
      "           1       0.93      0.87      0.90        15\n",
      "           2       0.88      0.93      0.90        15\n",
      "\n",
      "    accuracy                           0.93        45\n",
      "   macro avg       0.93      0.93      0.93        45\n",
      "weighted avg       0.93      0.93      0.93        45\n",
      "\n",
      "[[15  0  0]\n",
      " [ 0 13  2]\n",
      " [ 0  1 14]]\n",
      "Accuracy Score 93.0 %\n"
     ]
    }
   ],
   "source": [
    "#using KNeighborsclassifer \n",
    "from sklearn.neighbors import KNeighborsClassifier\n",
    "knc=KNeighborsClassifier(n_neighbors=5,metric='minkowski',p=2)\n",
    "knc=create_model(knc) "
   ]
  },
  {
   "cell_type": "code",
   "execution_count": 45,
   "id": "b113835c",
   "metadata": {},
   "outputs": [],
   "source": [
    "#deploy the iris dataset \n",
    "import pickle "
   ]
  },
  {
   "cell_type": "code",
   "execution_count": 49,
   "id": "f349df71",
   "metadata": {},
   "outputs": [],
   "source": [
    "file = open(\"iris_model.pkl\",\"wb\")\n",
    "file2=open(\"scale.pkl\",\"wb\")\n",
    "pickle.dump(svc,file)\n",
    "pickle.dump(ss,file2)\n",
    "file.close()\n",
    "file2.close()"
   ]
  },
  {
   "cell_type": "code",
   "execution_count": 50,
   "id": "90b7ccb0",
   "metadata": {},
   "outputs": [],
   "source": [
    "file = open(\"iris_model.pkl\",\"rb\")\n",
    "file2 = open(\"scale.pkl\",\"rb\")"
   ]
  },
  {
   "cell_type": "code",
   "execution_count": 51,
   "id": "d177d522",
   "metadata": {},
   "outputs": [],
   "source": [
    "model = pickle.load(file)\n",
    "s=pickle.load(file2)"
   ]
  },
  {
   "cell_type": "code",
   "execution_count": 52,
   "id": "deb253e3",
   "metadata": {},
   "outputs": [
    {
     "data": {
      "text/plain": [
       "2"
      ]
     },
     "execution_count": 52,
     "metadata": {},
     "output_type": "execute_result"
    }
   ],
   "source": [
    "X=[5.1,3.5,1.4,0.2]\n",
    "X=np.array([X])\n",
    "X.ndim"
   ]
  },
  {
   "cell_type": "code",
   "execution_count": 53,
   "id": "91d593a6",
   "metadata": {},
   "outputs": [],
   "source": [
    "X=s.transform(X)"
   ]
  },
  {
   "cell_type": "code",
   "execution_count": 54,
   "id": "1fd1322c",
   "metadata": {},
   "outputs": [
    {
     "name": "stdout",
     "output_type": "stream",
     "text": [
      "versicolor\n"
     ]
    }
   ],
   "source": [
    "Y_pred1=model.predict(X)[0]\n",
    "if Y_pred1==0:\n",
    "    r='versicolor'\n",
    "elif Y_pred1==1:\n",
    "    r='virginica'\n",
    "else:\n",
    "    r='setosa'\n",
    "print(r)"
   ]
  },
  {
   "cell_type": "code",
   "execution_count": null,
   "id": "3ec05b6f",
   "metadata": {},
   "outputs": [],
   "source": []
  },
  {
   "cell_type": "code",
   "execution_count": null,
   "id": "4448c7df",
   "metadata": {},
   "outputs": [],
   "source": []
  },
  {
   "cell_type": "code",
   "execution_count": null,
   "id": "fae2fc8b",
   "metadata": {},
   "outputs": [],
   "source": []
  },
  {
   "cell_type": "code",
   "execution_count": null,
   "id": "17999996",
   "metadata": {},
   "outputs": [],
   "source": []
  }
 ],
 "metadata": {
  "kernelspec": {
   "display_name": "Python 3 (ipykernel)",
   "language": "python",
   "name": "python3"
  },
  "language_info": {
   "codemirror_mode": {
    "name": "ipython",
    "version": 3
   },
   "file_extension": ".py",
   "mimetype": "text/x-python",
   "name": "python",
   "nbconvert_exporter": "python",
   "pygments_lexer": "ipython3",
   "version": "3.9.12"
  }
 },
 "nbformat": 4,
 "nbformat_minor": 5
}
